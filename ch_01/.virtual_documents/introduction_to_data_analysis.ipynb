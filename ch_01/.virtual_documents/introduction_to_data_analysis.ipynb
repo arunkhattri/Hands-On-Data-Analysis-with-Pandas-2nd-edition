import numpy as np
import matplotlib.pyplot as plt
from scipy.stats import norm


def _despine(ax):
    """Remove the top and right spines of a matplotlib Axes object"""
    for spine in ['top', 'right']:
        ax.spines[spine].set_visible(False)


def different_modal_plots():
    """Show unimodal, bimodal, and multimodal example distributions."""

    # distribution details
    x = np.linspace(-4, 4, 500)
    loc1, scale1, size1 = (-2, 0.75, 150)
    loc2, scale2, size2 = (3, 0.5, 50)
    loc3, scale3, size3 = (0.4, 1, 150)

    # make subplots
    fig, axes = plt.subplots(1, 3, figsize=(15, 3))

    # plot unimodal
    axes[0].plot(x, norm.pdf(x))

    # plot bimodal
    bimodal_pdf = norm.pdf(x, loc=loc1, scale=scale1) * float(size1) / (size1 + size2) + \
       norm.pdf(x, loc=loc2, scale=scale2) * float(size2) / (size1 + size2)
    axes[1].plot(x, bimodal_pdf)

    # plot multimodal
    multimodal_pdf = bimodal_pdf + norm.pdf(x, loc=loc3, scale=scale3) * float(size3) / (size1 + size2)
    axes[2].plot(x, multimodal_pdf)

    # label everything and format
    for ax, title in zip(axes, ['unimodal', 'bimodal', 'multimodal']):
        ax.set_ylim(0, 0.45)
        ax.set_xlabel('x')
        ax.set_ylabel('density')
        ax.set_title(title)
        _despine(ax)

    return axes



ax = different_modal_plots()


import pandas as pd


def effect_of_std_dev():
    """Display two normal distributions with different standard deviations."""
    np.random.seed(0)
    data = pd.DataFrame({
        'σ = 0.5': np.random.normal(scale=0.5, size=1000),
        'σ = 2': np.random.normal(scale=2, size=1000)
    })

    ax = data.plot(kind='density', title='Different Population Standard Deviations', figsize=(5, 2), colormap='brg')
    plt.xlabel('x')
    _despine(ax)

    return ax


ax = effect_of_std_dev()


def _non_symmetric_data():
    """Generate non-symmetric data for plots"""
    # generate data
    np.random.seed(0)
    return pd.Series(
        np.random.gamma(7, 5, size=1000) * np.random.choice([-2.2, -1.85, 0, -0.4, 1.33], size=1000), name='x'
    )


def example_boxplot():
    """Generate an example box plot."""
    non_symmetric = _non_symmetric_data()

    # find the quartiles and iqr
    q1_y, median_y, q3_y = non_symmetric.quantile([0.25, 0.5, 0.75])
    iqr = q3_y - q1_y

    # make the boxplot
    ax = non_symmetric.plot(kind='box', figsize=(6, 6), title='Box plot')

    # label the box
    ax.annotate('median', xy=(0.945, median_y + 2))
    ax.annotate(r'$Q_3$', xy=(1, q3_y), xytext=(1.08, q3_y - 5))
    ax.annotate(r'$Q_1$', xy=(1, q1_y), xytext=(1.08, q1_y))
    ax.annotate(
        'IQR', xy=(0.9, (q3_y + q1_y)/2), xytext=(0.8, (q3_y + q1_y)/2 - 2.85),
        arrowprops=dict(arrowstyle='-[, widthB=3.3, lengthB=0.5')
    )

    # label the whiskers
    ax.annotate(r'$Q_3 + 1.5 * IQR$', xy=(1.05, q3_y + 1.5 * iqr - 7))
    ax.annotate(r'$Q_1 - 1.5 * IQR$', xy=(1.05, q1_y - 1.5 * iqr - 2))

    # label the outliers
    ax.annotate(
        'outlier', xy=(0.99, non_symmetric.min()), xytext=(0.8, non_symmetric.min() - 2.1),
        arrowprops=dict(arrowstyle='->')
    )

    for i, val in enumerate(non_symmetric[non_symmetric > q3_y + 1.5*iqr]):
        if not i: 
            text = 'outliers' 
            x, y = 0.75, 102
        else:
            text = '' 
            x, y = 0.87, 103
        ax.annotate(
            text, xy=(0.99, val), xytext=(x, y),
            arrowprops=dict(facecolor='black', arrowstyle='-|>')
        )

    _despine(ax)
    ax.set_ylabel('x')
    ax.xaxis.set_visible(False)

    return ax


ax = example_boxplot()


ax = stats_viz.example_histogram()


ax = stats_viz.example_kde()


ax = stats_viz.hist_and_kde()


ax = stats_viz.skew_examples()


ax = stats_viz.cdf_example()


ax = stats_viz.common_dists()


ax = stats_viz.correlation_coefficient_examples()


ax = stats_viz.non_linear_relationships()


ax = stats_viz.anscombes_quartet()


ax = stats_viz.datasaurus_dozen()


ax = stats_viz.example_scatter_plot()


ax = stats_viz.example_regression()


ax = stats_viz.time_series_decomposition_example()
